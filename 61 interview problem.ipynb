{
 "cells": [
  {
   "cell_type": "markdown",
   "metadata": {},
   "source": [
    "# Practice 61 interview Problems\n",
    "\n"
   ]
  },
  {
   "cell_type": "markdown",
   "metadata": {},
   "source": [
    "### 1. Writing “Hello, World!” program."
   ]
  },
  {
   "cell_type": "code",
   "execution_count": 23,
   "metadata": {},
   "outputs": [],
   "source": [
    "def printingOutSomething(sentence):\n",
    "    print(sentence)"
   ]
  },
  {
   "cell_type": "code",
   "execution_count": 24,
   "metadata": {},
   "outputs": [
    {
     "name": "stdout",
     "output_type": "stream",
     "text": [
      "Hello World\n"
     ]
    }
   ],
   "source": [
    "printingOutSomething('Hello World')"
   ]
  },
  {
   "cell_type": "markdown",
   "metadata": {},
   "source": [
    "### 2. Write a program to display the list of even numbers."
   ]
  },
  {
   "cell_type": "code",
   "execution_count": 6,
   "metadata": {},
   "outputs": [
    {
     "name": "stdout",
     "output_type": "stream",
     "text": [
      "2\n",
      "4\n",
      "6\n",
      "8\n",
      "18\n",
      "20\n",
      "56\n",
      "120\n",
      "\n"
     ]
    }
   ],
   "source": [
    "list = [1,2,3,4,5,6,7,8,9,15,18,20,56,120]\n",
    "\n",
    "def displayEvenNum(l):\n",
    "    for i in range(len(list)):\n",
    "        if l[i] % 2 == 0:\n",
    "            print(l[i])\n",
    "\n",
    "displayEvenNum(list)       \n",
    "\n",
    "print()"
   ]
  },
  {
   "cell_type": "markdown",
   "metadata": {},
   "source": [
    "### 3. Find the Factorial of a given number."
   ]
  },
  {
   "cell_type": "code",
   "execution_count": 9,
   "metadata": {},
   "outputs": [
    {
     "name": "stdout",
     "output_type": "stream",
     "text": [
      "5\n",
      "4\n",
      "3\n",
      "2\n"
     ]
    },
    {
     "data": {
      "text/plain": [
       "120"
      ]
     },
     "execution_count": 9,
     "metadata": {},
     "output_type": "execute_result"
    }
   ],
   "source": [
    "def factorial(num):\n",
    "    fact = 1\n",
    "    while num > 1:\n",
    "        fact *= num\n",
    "        print(num)\n",
    "        num -= 1\n",
    "    return fact\n",
    "\n",
    "factorial(5)"
   ]
  },
  {
   "cell_type": "markdown",
   "metadata": {},
   "source": [
    "### 4. Compare Two Numbers using else-if statement and output smaller and larger numbers."
   ]
  },
  {
   "cell_type": "code",
   "execution_count": 11,
   "metadata": {},
   "outputs": [],
   "source": [
    "def compareTwoNum(a,b):\n",
    "    if a==b:\n",
    "        print(a,'&',b,\"are Equal\")\n",
    "    elif a>b:\n",
    "        print(a, 'is greater')\n",
    "    else:\n",
    "        print(b, 'is greater')"
   ]
  },
  {
   "cell_type": "code",
   "execution_count": 12,
   "metadata": {},
   "outputs": [
    {
     "name": "stdout",
     "output_type": "stream",
     "text": [
      "12 & 12 are Equal\n"
     ]
    }
   ],
   "source": [
    "compareTwoNum(12,12)"
   ]
  },
  {
   "cell_type": "markdown",
   "metadata": {},
   "source": [
    "### 5. Write a program to determine If the given year is a Leap year."
   ]
  },
  {
   "cell_type": "code",
   "execution_count": 13,
   "metadata": {},
   "outputs": [],
   "source": [
    "def leapYear(year):\n",
    "    if year % 4 == 0 and (year % 100 != 0 or year % 400 == 0):\n",
    "        return True\n",
    "    else:\n",
    "        return False"
   ]
  },
  {
   "cell_type": "code",
   "execution_count": 18,
   "metadata": {},
   "outputs": [
    {
     "data": {
      "text/plain": [
       "True"
      ]
     },
     "execution_count": 18,
     "metadata": {},
     "output_type": "execute_result"
    }
   ],
   "source": [
    "leapYear(1600)"
   ]
  },
  {
   "cell_type": "markdown",
   "metadata": {},
   "source": [
    "### 6. Print all the elements in the Fibonacci number series.This program can be implemented using a loop or recursion technique."
   ]
  },
  {
   "cell_type": "markdown",
   "metadata": {},
   "source": [
    "#### Solution1"
   ]
  },
  {
   "cell_type": "code",
   "execution_count": 35,
   "metadata": {},
   "outputs": [],
   "source": [
    "# Iteratively\n",
    "\n",
    "def fibonacci(n):\n",
    "    \n",
    "    a,b = 0,1\n",
    "    for i in range(n):\n",
    "        a,b = b, a+b\n",
    "    return a"
   ]
  },
  {
   "cell_type": "code",
   "execution_count": 36,
   "metadata": {},
   "outputs": [
    {
     "data": {
      "text/plain": [
       "8"
      ]
     },
     "execution_count": 36,
     "metadata": {},
     "output_type": "execute_result"
    }
   ],
   "source": [
    "fibonacci(6) "
   ]
  },
  {
   "cell_type": "markdown",
   "metadata": {},
   "source": [
    "#### Solution2"
   ]
  },
  {
   "cell_type": "code",
   "execution_count": 30,
   "metadata": {},
   "outputs": [],
   "source": [
    "def fibonacci2(n):\n",
    "#     base check\n",
    "    if n == 0 or n == 1:\n",
    "        return n\n",
    "    return fibonacci2(n-1) + fibonacci2(n-2)\n",
    "\n",
    "# 0,1,1,2,3,5,8"
   ]
  },
  {
   "cell_type": "code",
   "execution_count": 31,
   "metadata": {},
   "outputs": [
    {
     "data": {
      "text/plain": [
       "55"
      ]
     },
     "execution_count": 31,
     "metadata": {},
     "output_type": "execute_result"
    }
   ],
   "source": [
    "fibonacci2(10)"
   ]
  },
  {
   "cell_type": "markdown",
   "metadata": {},
   "source": [
    "#### Solution3"
   ]
  },
  {
   "cell_type": "code",
   "execution_count": 33,
   "metadata": {},
   "outputs": [],
   "source": [
    "\n",
    "# Dynamic Programming using memoization\n",
    "\n",
    "# Cache Information\n",
    "\n",
    "n = 10\n",
    "cache = [None]*(n+1)\n",
    "\n",
    "def fibonacci3(n):\n",
    "    \n",
    "#     Base check\n",
    "    if n == 0 or n == 1:\n",
    "        return n\n",
    "    \n",
    "#     Cache Check\n",
    "\n",
    "    if cache[n] != None:\n",
    "        return cache[n]\n",
    "    \n",
    "#   Keep Setting cache\n",
    "\n",
    "    cache[n] = fibonacci3(n-1) + fibonacci3(n-2)\n",
    "    return cache[n]\n",
    "    "
   ]
  },
  {
   "cell_type": "code",
   "execution_count": 26,
   "metadata": {},
   "outputs": [
    {
     "name": "stdout",
     "output_type": "stream",
     "text": [
      "2\n",
      "3\n",
      "4\n",
      "5\n",
      "6\n",
      "7\n",
      "8\n",
      "9\n",
      "10\n"
     ]
    },
    {
     "data": {
      "text/plain": [
       "55"
      ]
     },
     "execution_count": 26,
     "metadata": {},
     "output_type": "execute_result"
    }
   ],
   "source": [
    "fibonacci3(10)"
   ]
  },
  {
   "cell_type": "markdown",
   "metadata": {},
   "source": [
    "### 7. Write a program to check if the number is Palindrome number or not."
   ]
  },
  {
   "cell_type": "code",
   "execution_count": 49,
   "metadata": {},
   "outputs": [],
   "source": [
    "# A palindrome number is a number that is same after reverse. For example 121, 34543, 343, 131, 48984 \n",
    "# are the palindrome numbers.\n",
    "\n",
    "def palindrome(string):\n",
    "    if string == string[len(string)::-1]:\n",
    "        return 'String is palindrome'\n",
    "    else:\n",
    "        return 'String is not palindrome'\n",
    "    \n",
    "   "
   ]
  },
  {
   "cell_type": "code",
   "execution_count": 50,
   "metadata": {},
   "outputs": [
    {
     "data": {
      "text/plain": [
       "'String is palindrome'"
      ]
     },
     "execution_count": 50,
     "metadata": {},
     "output_type": "execute_result"
    }
   ],
   "source": [
    "palindrome('naman')"
   ]
  },
  {
   "cell_type": "markdown",
   "metadata": {},
   "source": [
    "#### Solution2"
   ]
  },
  {
   "cell_type": "code",
   "execution_count": 51,
   "metadata": {},
   "outputs": [
    {
     "name": "stdout",
     "output_type": "stream",
     "text": [
      "Enter a number: 121\n",
      "Number is palindrome\n"
     ]
    }
   ],
   "source": [
    "num = int(input(\"Enter a number: \"))\n",
    "temp = num # 121\n",
    "rev = 0\n",
    "\n",
    "while (num > 0):\n",
    "    digit = num % 10 # 121/10 = 1\n",
    "    rev = rev * 10 + digit # 1 * 10 + 1 = 11\n",
    "    num = num//10 # 121 // 10 = 12\n",
    "\n",
    "if temp == rev:\n",
    "    print('Number is palindrome')\n",
    "else:\n",
    "    print('Number is not a palindrome')\n",
    "    \n"
   ]
  },
  {
   "cell_type": "markdown",
   "metadata": {},
   "source": [
    "### 8. Generate all the prime numbers between one & the given number."
   ]
  },
  {
   "cell_type": "code",
   "execution_count": 57,
   "metadata": {},
   "outputs": [
    {
     "name": "stdout",
     "output_type": "stream",
     "text": [
      "Enter a lower number: 2\n",
      "Enter a upper number: 10\n",
      "2 3 5 7 "
     ]
    }
   ],
   "source": [
    "lower = int(input('Enter a lower number: '))\n",
    "upper = int(input('Enter a upper number: '))\n",
    "\n",
    "for num in range(lower,upper+1):\n",
    "    if num > 1:\n",
    "        for i in range(2,num):\n",
    "            if num % i == 0:\n",
    "                break\n",
    "        else:\n",
    "            print(num, end=\" \")"
   ]
  },
  {
   "cell_type": "markdown",
   "metadata": {},
   "source": [
    "### 9. Print the Pyramid of stars using nested for loops."
   ]
  },
  {
   "cell_type": "code",
   "execution_count": 46,
   "metadata": {},
   "outputs": [],
   "source": [
    "def triangle(n):\n",
    "    k = n - 1\n",
    " \n",
    "    for i in range(0, n):\n",
    "        for j in range(0, k):\n",
    "            print(end=\" \")\n",
    "        k = k - 1\n",
    "        for j in range(0, i+1):\n",
    "            print(\"* \", end='')\n",
    "        print(\"\\r\")"
   ]
  },
  {
   "cell_type": "code",
   "execution_count": 47,
   "metadata": {
    "scrolled": true
   },
   "outputs": [
    {
     "name": "stdout",
     "output_type": "stream",
     "text": [
      "    * \r\n",
      "   * * \r\n",
      "  * * * \r\n",
      " * * * * \r\n",
      "* * * * * \r\n"
     ]
    }
   ],
   "source": [
    "triangle(5)"
   ]
  },
  {
   "cell_type": "markdown",
   "metadata": {},
   "source": [
    "### 10. Print Reversed pyramid on programming console using for loops & decrement operator."
   ]
  },
  {
   "cell_type": "code",
   "execution_count": 48,
   "metadata": {},
   "outputs": [
    {
     "name": "stdout",
     "output_type": "stream",
     "text": [
      "5\n",
      "*********\n",
      " *******\n",
      "  *****\n",
      "   ***\n",
      "    *\n"
     ]
    }
   ],
   "source": [
    "row = int(input())\n",
    "\n",
    "for i in range(row, 0, -1):\n",
    "    for j in range(row-i):\n",
    "        print(' ', end='') # printing space and staying in same line\n",
    "    \n",
    "    for j in range(2*i-1):\n",
    "        print('*',end='') # printing * and staying in same line\n",
    "    print() "
   ]
  },
  {
   "cell_type": "markdown",
   "metadata": {},
   "source": [
    "### 11. Write a program for Nested Switch."
   ]
  },
  {
   "cell_type": "code",
   "execution_count": 50,
   "metadata": {},
   "outputs": [],
   "source": [
    "def number_of_strings(argument):\n",
    "    switcher = {\n",
    "        0 : 'Zero',\n",
    "        1 : 'One',\n",
    "        2 : 'two'\n",
    "    }\n",
    "    \n",
    "    return switcher.get(argument, 'Nothing')\n"
   ]
  },
  {
   "cell_type": "code",
   "execution_count": 52,
   "metadata": {},
   "outputs": [
    {
     "data": {
      "text/plain": [
       "'Nothing'"
      ]
     },
     "execution_count": 52,
     "metadata": {},
     "output_type": "execute_result"
    }
   ],
   "source": [
    "number_of_strings(4)"
   ]
  },
  {
   "cell_type": "markdown",
   "metadata": {},
   "source": [
    "### 12. Write a program to calculate Circle Area and Perimeter using radius."
   ]
  },
  {
   "cell_type": "code",
   "execution_count": 53,
   "metadata": {},
   "outputs": [],
   "source": [
    "import math as mx\n",
    "\n",
    "def areaPerimeterOfCircle(rad):\n",
    "    area = mx.pi * rad**2\n",
    "    circumference = 2 * mx.pi * rad\n",
    "    print(f'Area is {area} and Circumference is {circumference}')"
   ]
  },
  {
   "cell_type": "code",
   "execution_count": 54,
   "metadata": {},
   "outputs": [
    {
     "name": "stdout",
     "output_type": "stream",
     "text": [
      "Area is 50.26548245743669 and Circumference is 25.132741228718345\n"
     ]
    }
   ],
   "source": [
    "areaPerimeterOfCircle(4)"
   ]
  },
  {
   "cell_type": "markdown",
   "metadata": {},
   "source": [
    "### 13. Find the Factorial of a number using recursion technique."
   ]
  },
  {
   "cell_type": "code",
   "execution_count": 130,
   "metadata": {},
   "outputs": [],
   "source": [
    "# Using Recursion\n",
    "\n",
    "def factorial2(num):\n",
    "    \n",
    "    if num == 0:\n",
    "        return 1\n",
    "    \n",
    "    if num == 1:\n",
    "        return num\n",
    "    \n",
    "    return num * factorial2(num-1)"
   ]
  },
  {
   "cell_type": "code",
   "execution_count": 131,
   "metadata": {},
   "outputs": [
    {
     "data": {
      "text/plain": [
       "120"
      ]
     },
     "execution_count": 131,
     "metadata": {},
     "output_type": "execute_result"
    }
   ],
   "source": [
    "factorial2(5)"
   ]
  },
  {
   "cell_type": "markdown",
   "metadata": {},
   "source": [
    "### 14. Print the Pyramid of numbers using for loops."
   ]
  },
  {
   "cell_type": "code",
   "execution_count": 63,
   "metadata": {},
   "outputs": [],
   "source": [
    "def triangle2(n):\n",
    "    k = n - 1\n",
    "    a = 0 \n",
    "    for i in range(0, n):\n",
    "        for j in range(0, k):\n",
    "            print(end=\" \")\n",
    "        k = k - 1\n",
    "        for j in range(0, i+1):\n",
    "            a += 1\n",
    "            print(f'{a} ', end='')\n",
    "        print(\"\\r\")"
   ]
  },
  {
   "cell_type": "code",
   "execution_count": 64,
   "metadata": {},
   "outputs": [
    {
     "name": "stdout",
     "output_type": "stream",
     "text": [
      "   1 \r\n",
      "  2 3 \r\n",
      " 4 5 6 \r\n",
      "7 8 9 10 \r\n"
     ]
    }
   ],
   "source": [
    "triangle2(4)"
   ]
  },
  {
   "cell_type": "markdown",
   "metadata": {},
   "source": [
    "### 15. Write a program to Find a Maximum of Two Numbers using the conditional operator."
   ]
  },
  {
   "cell_type": "code",
   "execution_count": 3,
   "metadata": {},
   "outputs": [],
   "source": [
    "def maximumNum():\n",
    "    \n",
    "    a = int(input(\"Enter first number: \"))\n",
    "    b = int(input(\"Enter second number: \"))\n",
    "    \n",
    "    if a == b:\n",
    "        print('Both are equal')\n",
    "    elif a > b:\n",
    "        print(f'{a} is greater than {b}')\n",
    "    elif a < b:\n",
    "        print(f'{b} is greater than {a}')    \n",
    "        "
   ]
  },
  {
   "cell_type": "code",
   "execution_count": 5,
   "metadata": {},
   "outputs": [
    {
     "name": "stdout",
     "output_type": "stream",
     "text": [
      "Enter first number: 2\n",
      "Enter second number: 4\n",
      "4 is greater than 2\n"
     ]
    }
   ],
   "source": [
    "maximumNum()"
   ]
  },
  {
   "cell_type": "markdown",
   "metadata": {},
   "source": [
    "### 16. Write a program to Find Minimum of Two Numbers using the conditional operator."
   ]
  },
  {
   "cell_type": "code",
   "execution_count": 6,
   "metadata": {},
   "outputs": [],
   "source": [
    "def minimumNum():\n",
    "    \n",
    "    a = int(input(\"Enter first number: \"))\n",
    "    b = int(input(\"Enter second number: \"))\n",
    "    \n",
    "    if a == b:\n",
    "        print('Both are equal')\n",
    "    elif a > b:\n",
    "        print(f'{b} is less than {a}')\n",
    "    elif a < b:\n",
    "        print(f'{a} is less than {b}')    \n",
    "        "
   ]
  },
  {
   "cell_type": "code",
   "execution_count": 7,
   "metadata": {},
   "outputs": [
    {
     "name": "stdout",
     "output_type": "stream",
     "text": [
      "Enter first number: 2\n",
      "Enter second number: 4\n",
      "2 is less than 4\n"
     ]
    }
   ],
   "source": [
    "minimumNum()"
   ]
  },
  {
   "cell_type": "markdown",
   "metadata": {},
   "source": [
    "### 17. Write a program that will read a float type value from the keyboard and print the following output.\n",
    "### 1) the smallest integer which is not less than the number\n",
    "### 2) given number\n",
    "### 3) the largest integer which is not greater than the number"
   ]
  },
  {
   "cell_type": "code",
   "execution_count": 67,
   "metadata": {},
   "outputs": [],
   "source": [
    "def readFloatTypeNum():\n",
    "    f = float(input(\"Enter a float value: \"))\n",
    "    smIntF = int(f + 1) \n",
    "    laIntF = int(f)\n",
    "    print(f'1) The smallest integer which is not less than the number is: {smIntF}')\n",
    "    print(f'1) The given number is: {f}')\n",
    "    print(f'1) The largest integer which is not greater than the number is: {laIntF}')\n",
    "    "
   ]
  },
  {
   "cell_type": "code",
   "execution_count": 68,
   "metadata": {},
   "outputs": [
    {
     "name": "stdout",
     "output_type": "stream",
     "text": [
      "Enter a float value: 12.5\n",
      "1) The smallest integer which is not less than the number is: 13\n",
      "1) The given number is: 12.5\n",
      "1) The largest integer which is not greater than the number is: 12\n"
     ]
    }
   ],
   "source": [
    "readFloatTypeNum()"
   ]
  },
  {
   "cell_type": "markdown",
   "metadata": {},
   "source": [
    "### 18. Choose the random number from the array."
   ]
  },
  {
   "cell_type": "code",
   "execution_count": 20,
   "metadata": {},
   "outputs": [],
   "source": [
    "import random\n",
    "\n",
    "def printRandomNumber(l):\n",
    "    print(random.choice(number_list))"
   ]
  },
  {
   "cell_type": "code",
   "execution_count": 21,
   "metadata": {},
   "outputs": [
    {
     "name": "stdout",
     "output_type": "stream",
     "text": [
      "111\n"
     ]
    }
   ],
   "source": [
    "number_list = [111, 222, 333, 444, 555]\n",
    "printRandomNumber(number_list)"
   ]
  },
  {
   "cell_type": "markdown",
   "metadata": {},
   "source": [
    "# Practice interview Questions"
   ]
  },
  {
   "cell_type": "markdown",
   "metadata": {},
   "source": [
    "### 1.  Write a function that takes an input parameter as a String. \n",
    "###  The function should replace the space in it with “%@” and print it.\n",
    "####        input = “i like this program very much”\n",
    "####        Output = “i%@like%@this%@program%@very%@much”"
   ]
  },
  {
   "cell_type": "code",
   "execution_count": 100,
   "metadata": {},
   "outputs": [],
   "source": [
    "# Solution1\n",
    "def changeTheWhiteSpace():\n",
    "    i = input(\"Enter a string value: \")\n",
    "    i = i.replace(' ', '%@')\n",
    "    return i"
   ]
  },
  {
   "cell_type": "code",
   "execution_count": 101,
   "metadata": {},
   "outputs": [
    {
     "name": "stdout",
     "output_type": "stream",
     "text": [
      "Enter a string value: i like this program very much\n"
     ]
    },
    {
     "data": {
      "text/plain": [
       "'i%@like%@this%@program%@very%@much'"
      ]
     },
     "execution_count": 101,
     "metadata": {},
     "output_type": "execute_result"
    }
   ],
   "source": [
    "changeTheWhiteSpace()"
   ]
  },
  {
   "cell_type": "markdown",
   "metadata": {},
   "source": [
    "### 2. You have given a 2 sorted array. You have to merge that array into a single sorted \n",
    "### array  in O(1) space complexity."
   ]
  },
  {
   "cell_type": "code",
   "execution_count": 102,
   "metadata": {},
   "outputs": [
    {
     "name": "stdout",
     "output_type": "stream",
     "text": [
      "[1, 2, 3, 4, 5, 6, 7, 8, 9, 10]\n"
     ]
    }
   ],
   "source": [
    "a = [1,2,3,4,5]\n",
    "b = [6,7,8,9,10]\n",
    "a.extend(b)\n",
    "    "
   ]
  },
  {
   "cell_type": "code",
   "execution_count": 105,
   "metadata": {},
   "outputs": [],
   "source": [
    "# Solution2\n",
    "def mergeArrays(arr1, arr2, n1, n2):\n",
    "    arr3 = [None] * (n1 + n2)\n",
    "    i = 0\n",
    "    j = 0\n",
    "    k = 0\n",
    " \n",
    "    while i < n1 and j < n2:\n",
    "     \n",
    "        if arr1[i] < arr2[j]:\n",
    "            arr3[k] = arr1[i]\n",
    "            k = k + 1\n",
    "            i = i + 1\n",
    "        else:\n",
    "            arr3[k] = arr2[j]\n",
    "            k = k + 1\n",
    "            j = j + 1\n",
    " \n",
    "    while i < n1:\n",
    "        arr3[k] = arr1[i];\n",
    "        k = k + 1\n",
    "        i = i + 1\n",
    "\n",
    "    while j < n2:\n",
    "        arr3[k] = arr2[j];\n",
    "        k = k + 1\n",
    "        j = j + 1\n",
    "    for i in range(n1 + n2):\n",
    "        print(str(arr3[i]), end = \" \")\n",
    " "
   ]
  },
  {
   "cell_type": "code",
   "execution_count": 106,
   "metadata": {},
   "outputs": [
    {
     "name": "stdout",
     "output_type": "stream",
     "text": [
      "1 2 3 4 5 6 7 8 "
     ]
    }
   ],
   "source": [
    "arr1 = [1, 3, 5, 7]\n",
    "n1 = len(arr1)\n",
    " \n",
    "arr2 = [2, 4, 6, 8]\n",
    "n2 = len(arr2)\n",
    "mergeArrays(arr1, arr2, n1, n2)"
   ]
  },
  {
   "cell_type": "code",
   "execution_count": 108,
   "metadata": {},
   "outputs": [],
   "source": [
    "def anagram(s1,s2):\n",
    "    s1 = s1.replace(' ','').lower()\n",
    "    s2 = s2.replace(' ','').lower()\n",
    "    \n",
    "    return sorted(s1) == sorted(s2)\n",
    "\n",
    "\n",
    "def anagram2(a1,a2):\n",
    "    a1 = str(a1)\n",
    "    a2 = str(a2)\n",
    "    \n",
    "    s1 = a1.replace(' ','').lower()\n",
    "    s2 = a2.replace(' ','').lower()\n",
    "    \n",
    "    if len(s1) != len(s2):\n",
    "        return False\n",
    "    \n",
    "    count = {}\n",
    "    \n",
    "    for letter in s1:\n",
    "        if letter in count:\n",
    "            count[letter] += 1\n",
    "        else:\n",
    "            count[letter] = 1\n",
    "    \n",
    "    for letter in s2:\n",
    "        if letter in count:\n",
    "            count[letter] -= 1\n",
    "        else:\n",
    "            count[letter] = 1\n",
    "            \n",
    "    for k in count:\n",
    "        if count[k] != 0:\n",
    "            return False\n",
    "    \n",
    "    return True\n",
    "        "
   ]
  },
  {
   "cell_type": "code",
   "execution_count": 112,
   "metadata": {},
   "outputs": [
    {
     "data": {
      "text/plain": [
       "False"
      ]
     },
     "execution_count": 112,
     "metadata": {},
     "output_type": "execute_result"
    }
   ],
   "source": [
    "anagram2(1256.4,6512.3)"
   ]
  },
  {
   "cell_type": "markdown",
   "metadata": {},
   "source": [
    "### You have to find the second largest no. From the unsorted array. You cannot sort the array"
   ]
  },
  {
   "cell_type": "code",
   "execution_count": 135,
   "metadata": {},
   "outputs": [],
   "source": [
    "def seclargest():\n",
    "    fmax = 0\n",
    "    smax = 0\n",
    "    arr = [5,7,90,88,2,1]\n",
    "    \n",
    "    for i in range(len(arr)):\n",
    "        if arr[i] > fmax:\n",
    "            fmax = arr[i]\n",
    "            \n",
    "    for j in range(len(arr)):\n",
    "        if arr[j] != fmax:\n",
    "            if arr[j] > smax:\n",
    "                smax = arr[j]\n",
    "    \n",
    "    return smax\n"
   ]
  },
  {
   "cell_type": "code",
   "execution_count": 136,
   "metadata": {},
   "outputs": [
    {
     "data": {
      "text/plain": [
       "88"
      ]
     },
     "execution_count": 136,
     "metadata": {},
     "output_type": "execute_result"
    }
   ],
   "source": [
    "seclargest()"
   ]
  },
  {
   "cell_type": "markdown",
   "metadata": {},
   "source": [
    "###  You have to find the nearest prime no at shortest distance from a given no."
   ]
  },
  {
   "cell_type": "code",
   "execution_count": 1,
   "metadata": {},
   "outputs": [
    {
     "name": "stdout",
     "output_type": "stream",
     "text": [
      "Enter a number: > 45\n",
      "43 is the closest prime number to the number you entered!\n"
     ]
    }
   ],
   "source": [
    "def getPrimes(limit):\n",
    "    primes = []\n",
    "    numbers = [True] * limit \n",
    "    for i in range(2, limit):\n",
    "        if numbers[i]:\n",
    "            primes.append(i)\n",
    "            for n in range(i ** 2, limit, i):\n",
    "                numbers[n] = False\n",
    "    return primes\n",
    "\n",
    "number = int(input(\"Enter a number: > \"))\n",
    "primes = getPrimes(number + 100)\n",
    "\n",
    "maxDist = 99999999\n",
    "numb = 0\n",
    "\n",
    "for p in primes:\n",
    "    if abs(number - p) < maxDist:\n",
    "        maxDist = abs(number - p)\n",
    "        numb = p\n",
    "\n",
    "# Print the output\n",
    "print(numb, \"is the closest prime number to the number you entered!\")\n"
   ]
  },
  {
   "cell_type": "markdown",
   "metadata": {},
   "source": [
    "### 19. Check if all the elements in the array are the same. "
   ]
  },
  {
   "cell_type": "code",
   "execution_count": 24,
   "metadata": {},
   "outputs": [],
   "source": [
    "def check_ele(arr):\n",
    "    \n",
    "    ele = arr[0]\n",
    "    chk = True\n",
    "    \n",
    "    for item in arr:\n",
    "        if ele != item:\n",
    "            chk = False\n",
    "            break\n",
    "    \n",
    "    if chk == True:\n",
    "        print(\"Elements are equal.\")\n",
    "    else:\n",
    "        print(\"Elements are not equal.\")\n",
    "    \n",
    "    "
   ]
  },
  {
   "cell_type": "code",
   "execution_count": 28,
   "metadata": {},
   "outputs": [
    {
     "name": "stdout",
     "output_type": "stream",
     "text": [
      "Elements are not equal.\n"
     ]
    }
   ],
   "source": [
    "arr = ['Geeks', 'Geeks', 'l', 'Geeks', ]\n",
    "check_ele(arr)"
   ]
  },
  {
   "cell_type": "markdown",
   "metadata": {},
   "source": [
    "### 20. Print all the unique numbers from the array."
   ]
  },
  {
   "cell_type": "code",
   "execution_count": 32,
   "metadata": {},
   "outputs": [],
   "source": [
    "def uni_arr(arr):\n",
    "    \n",
    "    unique_list = []\n",
    "    \n",
    "    for x in arr:\n",
    "        if x not in unique_list:\n",
    "            unique_list.append(x)\n",
    "     \n",
    "    for x in unique_list:\n",
    "        print(x, end=' ')\n",
    "            "
   ]
  },
  {
   "cell_type": "code",
   "execution_count": 33,
   "metadata": {},
   "outputs": [
    {
     "name": "stdout",
     "output_type": "stream",
     "text": [
      "Geeks l "
     ]
    }
   ],
   "source": [
    "uni_arr(arr)"
   ]
  },
  {
   "cell_type": "markdown",
   "metadata": {},
   "source": [
    "### 21. Write a program to generate 5 Random nos. between 1 to 100 and the number should not contain a decimal value."
   ]
  },
  {
   "cell_type": "code",
   "execution_count": 35,
   "metadata": {},
   "outputs": [],
   "source": [
    "import random\n",
    "\n",
    "def gen_ran_val(num,start,end):\n",
    "    \n",
    "    if start > end:\n",
    "        return IndexError('start is greater than end, please write correctly')\n",
    "    \n",
    "    res = []\n",
    "    \n",
    "    for i in range(num):\n",
    "        res.append(random.randint(start,end))\n",
    "    \n",
    "    return res"
   ]
  },
  {
   "cell_type": "code",
   "execution_count": 36,
   "metadata": {},
   "outputs": [
    {
     "data": {
      "text/plain": [
       "[6, 55, 34, 97, 56]"
      ]
     },
     "execution_count": 36,
     "metadata": {},
     "output_type": "execute_result"
    }
   ],
   "source": [
    "gen_ran_val(5, 1, 100)"
   ]
  },
  {
   "cell_type": "markdown",
   "metadata": {},
   "source": [
    "### 22. Write a program to display a  grade according to Marks obtained by the student."
   ]
  },
  {
   "cell_type": "code",
   "execution_count": 41,
   "metadata": {},
   "outputs": [],
   "source": [
    "def grade_calculator():\n",
    "    sub1=int(input(\"Enter marks of the first subject: \"))\n",
    "    sub2=int(input(\"Enter marks of the second subject: \"))\n",
    "    sub3=int(input(\"Enter marks of the third subject: \"))\n",
    "    sub4=int(input(\"Enter marks of the fourth subject: \"))\n",
    "    sub5=int(input(\"Enter marks of the fifth subject: \"))\n",
    "    avg=(sub1+sub2+sub3+sub4+sub4)/5\n",
    "    print(avg)\n",
    "    if(avg>=90):\n",
    "        print(\"Grade: A\")\n",
    "    elif(avg>=80 and avg<90):\n",
    "        print(\"Grade: B\")\n",
    "    elif(avg>=70 and avg<80):\n",
    "        print(\"Grade: C\")\n",
    "    elif(avg>=60 and avg<70):\n",
    "        print(\"Grade: D\")\n",
    "    else:\n",
    "        print(\"Grade: F\")"
   ]
  },
  {
   "cell_type": "code",
   "execution_count": 42,
   "metadata": {},
   "outputs": [
    {
     "name": "stdout",
     "output_type": "stream",
     "text": [
      "Enter marks of the first subject: 45\n",
      "Enter marks of the second subject: 78\n",
      "Enter marks of the third subject: 155\n",
      "Enter marks of the fourth subject: 45\n",
      "Enter marks of the fifth subject: 75\n",
      "73.6\n",
      "Grade: C\n"
     ]
    }
   ],
   "source": [
    "grade_calculator()"
   ]
  },
  {
   "cell_type": "markdown",
   "metadata": {},
   "source": [
    "### 23. Find SUM AND PRODUCT of a given Digits in the number."
   ]
  },
  {
   "cell_type": "code",
   "execution_count": 51,
   "metadata": {},
   "outputs": [],
   "source": [
    "def sum_pro(num):\n",
    "    \n",
    "    addition = 0\n",
    "    product = 1\n",
    "    \n",
    "    while num != 0:\n",
    "        \n",
    "        addition += num % 10\n",
    "        product *= num % 10 \n",
    "        \n",
    "        num = num // 10\n",
    "        \n",
    "    print(f'sum is {addition} and product is {product}')    "
   ]
  },
  {
   "cell_type": "code",
   "execution_count": 53,
   "metadata": {},
   "outputs": [
    {
     "name": "stdout",
     "output_type": "stream",
     "text": [
      "sum is 23 and product is 448\n"
     ]
    }
   ],
   "source": [
    "sum_pro(788)"
   ]
  },
  {
   "cell_type": "markdown",
   "metadata": {},
   "source": [
    "### 24. Write a program to find the sum of all integers greater than 150 and less than 290 that are divisible by 3"
   ]
  },
  {
   "cell_type": "code",
   "execution_count": 54,
   "metadata": {},
   "outputs": [],
   "source": [
    "def sum_int():\n",
    "    \n",
    "    add = 0\n",
    "    \n",
    "    for i in range(150,290):\n",
    "        if i % 3 == 0:\n",
    "            add += i\n",
    "    \n",
    "    return add"
   ]
  },
  {
   "cell_type": "code",
   "execution_count": 55,
   "metadata": {},
   "outputs": [
    {
     "data": {
      "text/plain": [
       "10293"
      ]
     },
     "execution_count": 55,
     "metadata": {},
     "output_type": "execute_result"
    }
   ],
   "source": [
    "sum_int()"
   ]
  },
  {
   "cell_type": "markdown",
   "metadata": {},
   "source": [
    "### 25. Write a program to concatenate string using for Loop"
   ]
  },
  {
   "cell_type": "code",
   "execution_count": 2,
   "metadata": {},
   "outputs": [],
   "source": [
    "def con_str():\n",
    "    \n",
    "    str1 = 'Hello'\n",
    "    str2 = 'World'\n",
    "    \n",
    "    con_string = ' '.join([str1,str2])\n",
    "    print(con_string)"
   ]
  },
  {
   "cell_type": "code",
   "execution_count": 3,
   "metadata": {},
   "outputs": [
    {
     "name": "stdout",
     "output_type": "stream",
     "text": [
      "Hello World\n"
     ]
    }
   ],
   "source": [
    "con_str()"
   ]
  },
  {
   "cell_type": "markdown",
   "metadata": {},
   "source": [
    "### 26. Display Multiplication Table for the given number."
   ]
  },
  {
   "cell_type": "code",
   "execution_count": 64,
   "metadata": {},
   "outputs": [],
   "source": [
    "def mul_table(n):\n",
    "    for i in range(1,11):\n",
    "        print(f'{n} X {i} = {n*i}')\n",
    "        print(n,'X',i,'=',n*i)\n",
    "        print('{} X {} = {}'.format(n,i,n*i))"
   ]
  },
  {
   "cell_type": "code",
   "execution_count": 65,
   "metadata": {},
   "outputs": [
    {
     "name": "stdout",
     "output_type": "stream",
     "text": [
      "5 X 1 = 5\n",
      "5 X 2 = 10\n",
      "5 X 3 = 15\n",
      "5 X 4 = 20\n",
      "5 X 5 = 25\n",
      "5 X 6 = 30\n",
      "5 X 7 = 35\n",
      "5 X 8 = 40\n",
      "5 X 9 = 45\n",
      "5 X 10 = 50\n"
     ]
    }
   ],
   "source": [
    "mul_table(5)"
   ]
  },
  {
   "cell_type": "markdown",
   "metadata": {},
   "source": [
    "### 27. Write a program to Swap the values given by the user without using the third variable."
   ]
  },
  {
   "cell_type": "code",
   "execution_count": 66,
   "metadata": {},
   "outputs": [],
   "source": [
    "def swap(a,b):\n",
    "    a,b = b,a\n",
    "    print(f'I am new a = {a} and I am new b = {b}')"
   ]
  },
  {
   "cell_type": "code",
   "execution_count": 67,
   "metadata": {},
   "outputs": [
    {
     "name": "stdout",
     "output_type": "stream",
     "text": [
      "I am new a = 13 and I am new b = 12\n"
     ]
    }
   ],
   "source": [
    "swap(12,13)"
   ]
  },
  {
   "cell_type": "markdown",
   "metadata": {},
   "source": [
    "### 28. Write a program to convert given the number of days into months and days. (For the sake of simplicity, Assume that each month contains 30 days)."
   ]
  },
  {
   "cell_type": "code",
   "execution_count": 68,
   "metadata": {},
   "outputs": [],
   "source": [
    "def conv_to_mon(n):\n",
    "    \n",
    "    if n % 30 == 0:\n",
    "        temp = n // 30\n",
    "        print(f'Months = {temp}')\n",
    "    else:\n",
    "        rem = n % 30\n",
    "        temp = n // 30\n",
    "        print(f'Months = {temp} and days = {rem}')"
   ]
  },
  {
   "cell_type": "code",
   "execution_count": 71,
   "metadata": {},
   "outputs": [
    {
     "name": "stdout",
     "output_type": "stream",
     "text": [
      "Months = 3 and days = 29\n"
     ]
    }
   ],
   "source": [
    "conv_to_mon(119)"
   ]
  },
  {
   "cell_type": "markdown",
   "metadata": {},
   "source": [
    "### 29. Print the Invert Triangle using the while loop."
   ]
  },
  {
   "cell_type": "code",
   "execution_count": 82,
   "metadata": {},
   "outputs": [
    {
     "name": "stdout",
     "output_type": "stream",
     "text": [
      "Enter number of rows: 5\n",
      "5 5 5 5 5 \n",
      "4 4 4 4 \n",
      "3 3 3 \n",
      "2 2 \n",
      "1 \n"
     ]
    }
   ],
   "source": [
    "rows = int(input(\"Enter number of rows: \"))\n",
    "\n",
    "i = rows\n",
    "\n",
    "while(i>=1):\n",
    "    j = 1\n",
    "    while j<=i:\n",
    "        print(f'{i}',end=' ')\n",
    "        j += 1\n",
    "    i -= 1\n",
    "    print()\n",
    "        "
   ]
  },
  {
   "cell_type": "markdown",
   "metadata": {},
   "source": [
    "### 30. Write a program to find whether given no. is Armstrong or not."
   ]
  },
  {
   "cell_type": "code",
   "execution_count": 93,
   "metadata": {},
   "outputs": [],
   "source": [
    "#  153 = 1**3 + 5**3 + 3**3\n",
    "def armstrong(num):\n",
    "    temp = num\n",
    "    cube = 0\n",
    "    while temp > 0:\n",
    "        digit = temp % 10\n",
    "        cube += digit**3\n",
    "        temp = temp // 10\n",
    "    \n",
    "    if num == cube:\n",
    "        print(f'{num} is a Armstrong Number')\n",
    "    else:\n",
    "        print(f'{num} is not a Armstrong Number')"
   ]
  },
  {
   "cell_type": "code",
   "execution_count": 95,
   "metadata": {},
   "outputs": [
    {
     "name": "stdout",
     "output_type": "stream",
     "text": [
      "15 is not a Armstrong Number\n"
     ]
    }
   ],
   "source": [
    "armstrong(153)"
   ]
  },
  {
   "cell_type": "markdown",
   "metadata": {},
   "source": [
    "### 31. Program to Check if the Given Number is Power of 3 (K)"
   ]
  },
  {
   "cell_type": "code",
   "execution_count": null,
   "metadata": {},
   "outputs": [],
   "source": [
    "def powerOf(n,k):\n",
    "    if n == k or n == 1:\n",
    "        return True\n",
    "    \n",
    "    n = n/k\n",
    "    if not n.is_integer():\n",
    "        return False\n",
    "    else:\n",
    "        return powerOf(n,k)"
   ]
  },
  {
   "cell_type": "markdown",
   "metadata": {},
   "source": [
    "### 32. Write a program to print the day of the week based on the given number using the switch case. (For example, print “Monday” for user input 1, print “Tuesday” for user input 2…)"
   ]
  },
  {
   "cell_type": "code",
   "execution_count": 3,
   "metadata": {},
   "outputs": [],
   "source": [
    "def day_using_input():\n",
    "    n = int(input(\"Enter a number: \")) \n",
    "    days = {\n",
    "            1 : \"Monday\",\n",
    "            2 : \"Tuesday\",\n",
    "            3 : \"Wednesday\",\n",
    "            4 : \"Thursday\",\n",
    "            5 : \"Friday\",\n",
    "            6 : \"Saturday\",\n",
    "            7 : \"Sunday\",\n",
    "        }  \n",
    "    if n > 7:\n",
    "        print(\"Invalid Input\")\n",
    "    else:    \n",
    "        print(days[n])"
   ]
  },
  {
   "cell_type": "code",
   "execution_count": 6,
   "metadata": {},
   "outputs": [
    {
     "name": "stdout",
     "output_type": "stream",
     "text": [
      "Enter a number: 8\n",
      "Invalid Input\n"
     ]
    }
   ],
   "source": [
    "day_using_input()"
   ]
  },
  {
   "cell_type": "markdown",
   "metadata": {},
   "source": [
    "### 33. What is the Harmonic Series? Write a program to generate the Harmonic Series."
   ]
  },
  {
   "cell_type": "code",
   "execution_count": 7,
   "metadata": {},
   "outputs": [],
   "source": [
    "def harmonic_series(n):\n",
    "    if n == 1:\n",
    "        return 1\n",
    "    else:\n",
    "        return 1.0/n + harmonic_series(n-1)"
   ]
  },
  {
   "cell_type": "code",
   "execution_count": 10,
   "metadata": {},
   "outputs": [
    {
     "data": {
      "text/plain": [
       "1.5"
      ]
     },
     "execution_count": 10,
     "metadata": {},
     "output_type": "execute_result"
    }
   ],
   "source": [
    "harmonic_series(2)"
   ]
  },
  {
   "cell_type": "markdown",
   "metadata": {},
   "source": [
    "### 34. Write a program to find the average of consecutive n-Odd numbers and n-Even numbers."
   ]
  },
  {
   "cell_type": "code",
   "execution_count": 28,
   "metadata": {},
   "outputs": [],
   "source": [
    "def avg_con():\n",
    "    n = int(input(\"Enter n: \"))\n",
    "    avgOdd = 0\n",
    "    avgEven = 0\n",
    "    tempEven = 0\n",
    "    tempOdd = 0\n",
    "    \n",
    "    for i in range(0, (2*n)+1):\n",
    "        if i % 2 == 0:\n",
    "            tempEven += i\n",
    "    \n",
    "    avgEven = tempEven/n\n",
    "    \n",
    "    for i in range(0, (2*n)+1):\n",
    "        if i % 2 != 0:\n",
    "            tempOdd += i\n",
    "    avgOdd = tempOdd/n\n",
    "    \n",
    "    print(f\"Average of n consecutive even no. is {avgEven}\\nAverage of n consecutive odd no. is {avgOdd}\")"
   ]
  },
  {
   "cell_type": "code",
   "execution_count": 29,
   "metadata": {},
   "outputs": [
    {
     "name": "stdout",
     "output_type": "stream",
     "text": [
      "Enter n: 5\n",
      "Average of n consecutive even no. is 6.0\n",
      "Average of n consecutive odd no. is 5.0\n"
     ]
    }
   ],
   "source": [
    "avg_con()"
   ]
  },
  {
   "cell_type": "markdown",
   "metadata": {},
   "source": [
    "### 35. Print the Triangle as follow, using for loops. 1 2 3 4 5 6 7 8 9 10 … N"
   ]
  },
  {
   "cell_type": "code",
   "execution_count": 41,
   "metadata": {},
   "outputs": [
    {
     "name": "stdout",
     "output_type": "stream",
     "text": [
      "4\n",
      "   1 \n",
      "  2 3 \n",
      " 4 5 6 \n",
      "7 8 9 10 \n"
     ]
    }
   ],
   "source": [
    "\n",
    "n= int(input())\n",
    "\n",
    "k = n-1\n",
    "\n",
    "m = 0\n",
    "\n",
    "for i in range(0,n):\n",
    "    for j in range(0,k):\n",
    "        print(end=\" \")\n",
    "    k = k-1\n",
    "    for j in range(0,i+1):\n",
    "        m += 1\n",
    "        print(f\"{m}\",end=' ')\n",
    "    print()    "
   ]
  },
  {
   "cell_type": "markdown",
   "metadata": {},
   "source": [
    "### 36. Create the class having a member variable of employee detail and getter and setter function for each variable."
   ]
  },
  {
   "cell_type": "code",
   "execution_count": 42,
   "metadata": {},
   "outputs": [],
   "source": [
    "class Employee(object):\n",
    "    \n",
    "    def __init__(self, employee_detail = ''):\n",
    "        self.employee_detail = employee_detail\n",
    "    \n",
    "    def get_employee_detail(self):\n",
    "        return self.employee_detail\n",
    "    \n",
    "    def set_employee_detail(self, details):\n",
    "        self.employee_detail = details\n",
    "        \n",
    "e = Employee()        "
   ]
  },
  {
   "cell_type": "code",
   "execution_count": 44,
   "metadata": {},
   "outputs": [
    {
     "data": {
      "text/plain": [
       "''"
      ]
     },
     "execution_count": 44,
     "metadata": {},
     "output_type": "execute_result"
    }
   ],
   "source": [
    "e.get_employee_detail()"
   ]
  },
  {
   "cell_type": "code",
   "execution_count": 45,
   "metadata": {},
   "outputs": [],
   "source": [
    "details = {\n",
    "    'name': 'Aditi',\n",
    "    'gender': 'Female'\n",
    "}\n",
    "e.set_employee_detail(details)"
   ]
  },
  {
   "cell_type": "code",
   "execution_count": 47,
   "metadata": {},
   "outputs": [
    {
     "data": {
      "text/plain": [
       "{'name': 'Aditi', 'gender': 'Female'}"
      ]
     },
     "execution_count": 47,
     "metadata": {},
     "output_type": "execute_result"
    }
   ],
   "source": [
    "e.get_employee_detail()"
   ]
  },
  {
   "cell_type": "markdown",
   "metadata": {},
   "source": [
    "### 37. Write the program to read and write a file."
   ]
  },
  {
   "cell_type": "code",
   "execution_count": 4,
   "metadata": {},
   "outputs": [],
   "source": [
    "st = 'hello worlf'"
   ]
  },
  {
   "cell_type": "code",
   "execution_count": 5,
   "metadata": {},
   "outputs": [],
   "source": [
    "words = st.split(' ')"
   ]
  },
  {
   "cell_type": "code",
   "execution_count": 6,
   "metadata": {},
   "outputs": [
    {
     "name": "stdout",
     "output_type": "stream",
     "text": [
      "['hello', 'worlf']\n"
     ]
    }
   ],
   "source": [
    "print(words)"
   ]
  },
  {
   "cell_type": "markdown",
   "metadata": {},
   "source": [
    "### 38. Find the first duplicate/repeated character in the string."
   ]
  },
  {
   "cell_type": "code",
   "execution_count": 2,
   "metadata": {},
   "outputs": [
    {
     "data": {
      "text/plain": [
       "'H'"
      ]
     },
     "execution_count": 2,
     "metadata": {},
     "output_type": "execute_result"
    }
   ],
   "source": [
    "def find_first_char(s):\n",
    "    return s[0]\n",
    "\n",
    "s = 'Hii'\n",
    "find_first_char(s)"
   ]
  },
  {
   "cell_type": "markdown",
   "metadata": {},
   "source": [
    "### 39. Write a program to check if the substring is present in the given string."
   ]
  },
  {
   "cell_type": "code",
   "execution_count": 5,
   "metadata": {},
   "outputs": [
    {
     "data": {
      "text/plain": [
       "False"
      ]
     },
     "execution_count": 5,
     "metadata": {},
     "output_type": "execute_result"
    }
   ],
   "source": [
    "def find_subst(s1,s2):\n",
    "    return s2 in s1\n",
    "\n",
    "st = 'My name is Aditya'\n",
    "subst = 'Aditya'\n",
    "\n",
    "find_subst(st,subst)"
   ]
  },
  {
   "cell_type": "markdown",
   "metadata": {},
   "source": [
    "### 40. Write a program to reverse the given string. "
   ]
  },
  {
   "cell_type": "code",
   "execution_count": 22,
   "metadata": {},
   "outputs": [
    {
     "name": "stdout",
     "output_type": "stream",
     "text": [
      "I am a: aytidAsiemanyM\n",
      "I am s: \n"
     ]
    }
   ],
   "source": [
    "def reverse_str(s):\n",
    "    words = s.split(' ')\n",
    "    \n",
    "    rsent = ' '.join(reversed(words))\n",
    "    \n",
    "    return rsent\n",
    "    \n",
    "#     return s[::-1]\n",
    "st = 'My name is Aditya'\n",
    "reverse_str(st)\n",
    "\n",
    "s = 'My name is Aditya'\n",
    "def reverse_s(s):\n",
    "    s = s.replace(' ','')\n",
    "#     s = ''.join(s)\n",
    "    s = list(s)\n",
    "    a = []\n",
    "    for i in range(len(s),0,-1):\n",
    "        a.append(s.pop())\n",
    "    \n",
    "    a = ''.join(a)\n",
    "    s = ''.join(s)\n",
    "    print('I am a:',a)\n",
    "    print('I am s:',s)\n",
    "reverse_s(s)  "
   ]
  },
  {
   "cell_type": "markdown",
   "metadata": {},
   "source": [
    "### 41. How to reverse a string without affecting special characters?"
   ]
  },
  {
   "cell_type": "code",
   "execution_count": 12,
   "metadata": {},
   "outputs": [
    {
     "name": "stdout",
     "output_type": "stream",
     "text": [
      "jih/gfedc$ba\n"
     ]
    }
   ],
   "source": [
    "strSample = 'abc/defgh$ij'\n",
    "\n",
    "listSample = list(strSample)\n",
    "\n",
    "i = 0\n",
    "j = len(listSample) - 1\n",
    "\n",
    "while i < j:\n",
    "    if not listSample[i].isalpha():\n",
    "        i+=1\n",
    "    elif not listSample[j].isalpha():\n",
    "        j-=1\n",
    "    else:\n",
    "        listSample[i],listSample[j] = listSample[j],listSample[i]\n",
    "        i+=1\n",
    "        j-=1\n",
    "        \n",
    "strout = ''.join(listSample)     \n",
    "print(strout)\n"
   ]
  },
  {
   "cell_type": "markdown",
   "metadata": {},
   "source": [
    "### 42. How to convert the given string to an integer value?"
   ]
  },
  {
   "cell_type": "code",
   "execution_count": 13,
   "metadata": {},
   "outputs": [
    {
     "name": "stdout",
     "output_type": "stream",
     "text": [
      "<class 'int'>\n"
     ]
    }
   ],
   "source": [
    "st = '21682663'\n",
    "i = int(st)\n",
    "\n",
    "print(type(i))\n"
   ]
  },
  {
   "cell_type": "markdown",
   "metadata": {},
   "source": [
    "### 43. Write a program to check the Palindrome String. "
   ]
  },
  {
   "cell_type": "code",
   "execution_count": 16,
   "metadata": {},
   "outputs": [
    {
     "data": {
      "text/plain": [
       "False"
      ]
     },
     "execution_count": 16,
     "metadata": {},
     "output_type": "execute_result"
    }
   ],
   "source": [
    "def pali_str(s):\n",
    "    return s == s[::-1]\n",
    "\n",
    "s = 'nama'\n",
    "pali_str(s)"
   ]
  },
  {
   "cell_type": "markdown",
   "metadata": {},
   "source": [
    "### 44. Write a program to check the Anagram String."
   ]
  },
  {
   "cell_type": "code",
   "execution_count": 24,
   "metadata": {},
   "outputs": [
    {
     "data": {
      "text/plain": [
       "False"
      ]
     },
     "execution_count": 24,
     "metadata": {},
     "output_type": "execute_result"
    }
   ],
   "source": [
    "def ana_check(s1,s2):\n",
    "    s1 = s1.replace(' ','')\n",
    "    s2 = s2.replace(' ','')\n",
    "    \n",
    "    count = {}\n",
    "    \n",
    "    for letter in s1:\n",
    "        if letter in count:\n",
    "            count[letter] += 1\n",
    "        else:\n",
    "            count[letter] = 1\n",
    "    \n",
    "    for letter in s2:\n",
    "        if letter in count:\n",
    "            count[letter] -= 1\n",
    "        else:\n",
    "            count[letter] = 1\n",
    "     \n",
    "    for k in count:\n",
    "        if count[k] != 0:\n",
    "            return False\n",
    "    \n",
    "    return True\n",
    "        \n",
    "        \n",
    "\n",
    "ana_check('dog','    oag     ')"
   ]
  },
  {
   "cell_type": "markdown",
   "metadata": {},
   "source": [
    "### 45. Remove white spaces from the given string. "
   ]
  },
  {
   "cell_type": "code",
   "execution_count": 31,
   "metadata": {},
   "outputs": [
    {
     "data": {
      "text/plain": [
       "'jaksjdsa'"
      ]
     },
     "execution_count": 31,
     "metadata": {},
     "output_type": "execute_result"
    }
   ],
   "source": [
    "def rem_white(st):\n",
    "    st = st.replace(' ','')\n",
    "    return st\n",
    "\n",
    "      \n",
    "st = '            jaksjd     sa '  \n",
    "\n",
    "rem_white(st)\n"
   ]
  },
  {
   "cell_type": "code",
   "execution_count": null,
   "metadata": {},
   "outputs": [],
   "source": [
    "def maxoperations(n,m):\n",
    "    count = 0\n",
    "    for i in range(len (m)):\n",
    "           if i %2==0:\n",
    "                count +=1\n",
    "                m[i]=m[i] / 2 \n",
    "                for j in range(len(m)):\n",
    "                      if m[i] % 2!=0:\n",
    "                            m[i]=m[i]/3\n",
    "    print(count)                             \n",
    "                        \n",
    "n =int(input())\n",
    "m = list(map(int,input().split(' ')))\n",
    "\n",
    "maxoperations(n,m)                        "
   ]
  },
  {
   "cell_type": "code",
   "execution_count": null,
   "metadata": {},
   "outputs": [],
   "source": [
    "\n",
    "m = []\n",
    "for i in range(0, n):\n",
    "    ele = int(input())\n",
    "    lst.append(ele) \n"
   ]
  },
  {
   "cell_type": "markdown",
   "metadata": {},
   "source": [
    "# Stack using 2 queues"
   ]
  },
  {
   "cell_type": "code",
   "execution_count": 8,
   "metadata": {},
   "outputs": [],
   "source": [
    "class MyStack:\n",
    "    def __init__(self):\n",
    "        self.q1 = []\n",
    "        self.q2 = []\n",
    "        \n",
    "    def push(self,x:int):\n",
    "        self.q1.append(x)\n",
    "        \n",
    "    def pop(self):\n",
    "        for i in range(len(self.q1)-1):\n",
    "            self.q2.append(self.q1.pop(0))\n",
    "        popped = self.q1.pop(0)  \n",
    "        for i in range(len(self.q2)):\n",
    "            self.q1.append(self.q2.pop(0))\n",
    "        return popped\n",
    "    \n",
    "    def top(self):\n",
    "        return self.q1[-1]\n",
    "    \n",
    "    def empty(self):\n",
    "        if len(self.q1)==0:\n",
    "            return True\n",
    "        else:\n",
    "            return False"
   ]
  },
  {
   "cell_type": "code",
   "execution_count": 9,
   "metadata": {},
   "outputs": [],
   "source": [
    "stack = MyStack()"
   ]
  },
  {
   "cell_type": "code",
   "execution_count": 10,
   "metadata": {},
   "outputs": [
    {
     "data": {
      "text/plain": [
       "True"
      ]
     },
     "execution_count": 10,
     "metadata": {},
     "output_type": "execute_result"
    }
   ],
   "source": [
    "stack.empty()"
   ]
  },
  {
   "cell_type": "code",
   "execution_count": 11,
   "metadata": {},
   "outputs": [],
   "source": [
    "stack.push(5)"
   ]
  },
  {
   "cell_type": "code",
   "execution_count": 12,
   "metadata": {},
   "outputs": [],
   "source": [
    "for i in range(6):\n",
    "    if i != 5:\n",
    "        stack.push(i)"
   ]
  },
  {
   "cell_type": "code",
   "execution_count": 13,
   "metadata": {},
   "outputs": [
    {
     "data": {
      "text/plain": [
       "4"
      ]
     },
     "execution_count": 13,
     "metadata": {},
     "output_type": "execute_result"
    }
   ],
   "source": [
    "stack.top()"
   ]
  },
  {
   "cell_type": "code",
   "execution_count": 14,
   "metadata": {},
   "outputs": [
    {
     "data": {
      "text/plain": [
       "4"
      ]
     },
     "execution_count": 14,
     "metadata": {},
     "output_type": "execute_result"
    }
   ],
   "source": [
    "stack.pop()"
   ]
  },
  {
   "cell_type": "code",
   "execution_count": 15,
   "metadata": {},
   "outputs": [
    {
     "data": {
      "text/plain": [
       "False"
      ]
     },
     "execution_count": 15,
     "metadata": {},
     "output_type": "execute_result"
    }
   ],
   "source": [
    "stack.empty()"
   ]
  },
  {
   "cell_type": "code",
   "execution_count": 127,
   "metadata": {},
   "outputs": [],
   "source": [
    "class MyStack2:\n",
    "    \n",
    "    def __init__(self):\n",
    "        self.q1 = []\n",
    "        self.q2 = []\n",
    "        \n",
    "    def push(self,n):\n",
    "        self.q1.append(n)\n",
    "    \n",
    "    def pop(self):\n",
    "        for i in range(len(self.q1)-1):\n",
    "            self.q2.append(self.q1.pop(0))\n",
    "        popped = self.q1.pop(0)\n",
    "        for i in range(len(self.q2)):\n",
    "            self.q1.append(self.q2.pop(0))\n",
    "        return popped\n",
    "    \n",
    "    def peek(self):\n",
    "        return self.q1[-1]\n",
    "    \n",
    "    def isEmpty(self):\n",
    "        return self.q1 == []\n",
    "    \n",
    "    def display(self):\n",
    "        return  self.q1"
   ]
  },
  {
   "cell_type": "code",
   "execution_count": 128,
   "metadata": {},
   "outputs": [],
   "source": [
    "st = MyStack2()"
   ]
  },
  {
   "cell_type": "code",
   "execution_count": 129,
   "metadata": {},
   "outputs": [],
   "source": [
    "for i in range(6):\n",
    "    st.push(i)"
   ]
  },
  {
   "cell_type": "code",
   "execution_count": 130,
   "metadata": {},
   "outputs": [
    {
     "data": {
      "text/plain": [
       "False"
      ]
     },
     "execution_count": 130,
     "metadata": {},
     "output_type": "execute_result"
    }
   ],
   "source": [
    "st.isEmpty()"
   ]
  },
  {
   "cell_type": "code",
   "execution_count": 131,
   "metadata": {},
   "outputs": [
    {
     "data": {
      "text/plain": [
       "5"
      ]
     },
     "execution_count": 131,
     "metadata": {},
     "output_type": "execute_result"
    }
   ],
   "source": [
    "st.peek()"
   ]
  },
  {
   "cell_type": "code",
   "execution_count": 132,
   "metadata": {},
   "outputs": [
    {
     "data": {
      "text/plain": [
       "5"
      ]
     },
     "execution_count": 132,
     "metadata": {},
     "output_type": "execute_result"
    }
   ],
   "source": [
    "st.pop()"
   ]
  },
  {
   "cell_type": "code",
   "execution_count": 134,
   "metadata": {},
   "outputs": [
    {
     "data": {
      "text/plain": [
       "[0, 1, 2, 3, 4]"
      ]
     },
     "execution_count": 134,
     "metadata": {},
     "output_type": "execute_result"
    }
   ],
   "source": [
    "st.display()"
   ]
  },
  {
   "cell_type": "markdown",
   "metadata": {},
   "source": [
    "### 46. Write a program to check the Palindrome String."
   ]
  },
  {
   "cell_type": "code",
   "execution_count": 4,
   "metadata": {},
   "outputs": [
    {
     "data": {
      "text/plain": [
       "False"
      ]
     },
     "execution_count": 4,
     "metadata": {},
     "output_type": "execute_result"
    }
   ],
   "source": [
    "def pali_str(s):\n",
    "    return s == s[::-1]\n",
    "\n",
    "s = 'namn'\n",
    "pali_str(s)"
   ]
  },
  {
   "cell_type": "markdown",
   "metadata": {},
   "source": [
    "### 47. Write a program to check the Anagram String."
   ]
  },
  {
   "cell_type": "code",
   "execution_count": 5,
   "metadata": {},
   "outputs": [],
   "source": [
    "def ana_str(s1,s2):\n",
    "    s1 = s1.replace(' ','')\n",
    "    s2 = s2.replace(' ','')    \n",
    "    \n",
    "    count = {}\n",
    "    \n",
    "    for letter in s1:\n",
    "        if letter in count:\n",
    "            count[letter] += 1\n",
    "        else:\n",
    "            count[letter] = 1\n",
    "    \n",
    "    for letter in s2:\n",
    "        if letter in count:\n",
    "            count[letter] -= 1\n",
    "        else:\n",
    "            count[letter] = 1\n",
    "            \n",
    "    for k in count:\n",
    "        if count[k] != 0:\n",
    "            return False\n",
    "    \n",
    "    return True"
   ]
  },
  {
   "cell_type": "code",
   "execution_count": 7,
   "metadata": {},
   "outputs": [
    {
     "data": {
      "text/plain": [
       "False"
      ]
     },
     "execution_count": 7,
     "metadata": {},
     "output_type": "execute_result"
    }
   ],
   "source": [
    "s1 = 'dog'\n",
    "s2 = '  g    2    d      '\n",
    "ana_str(s1,s2)"
   ]
  },
  {
   "cell_type": "markdown",
   "metadata": {},
   "source": [
    "### 48. Find all the permutations of the given string. "
   ]
  },
  {
   "cell_type": "code",
   "execution_count": 2,
   "metadata": {},
   "outputs": [],
   "source": [
    "def permute(s):\n",
    "    \n",
    "    out = []\n",
    "    \n",
    "    if len(s) == 1:\n",
    "        out = [s]\n",
    "    else:\n",
    "        for i,let in enumerate(s):\n",
    "            for perm in permute(s[:i]+ s[i+1]):\n",
    "                out += [let+perm]\n",
    "    \n",
    "    return out            "
   ]
  },
  {
   "cell_type": "markdown",
   "metadata": {},
   "source": [
    "### 49. Find Remainder without using Modulus Operator"
   ]
  },
  {
   "cell_type": "code",
   "execution_count": 8,
   "metadata": {},
   "outputs": [],
   "source": [
    "def rem(num,d):\n",
    "    \n",
    "    if num == 0:\n",
    "        return 0\n",
    "    elif d == 0:\n",
    "        return -1\n",
    "    \n",
    "    while num >= d:\n",
    "        num = num-d\n",
    "    return num"
   ]
  },
  {
   "cell_type": "code",
   "execution_count": 9,
   "metadata": {},
   "outputs": [
    {
     "data": {
      "text/plain": [
       "1"
      ]
     },
     "execution_count": 9,
     "metadata": {},
     "output_type": "execute_result"
    }
   ],
   "source": [
    "rem(34,3)"
   ]
  },
  {
   "cell_type": "markdown",
   "metadata": {},
   "source": [
    "### 50. Remove all the duplicates characters from the string"
   ]
  },
  {
   "cell_type": "code",
   "execution_count": 28,
   "metadata": {},
   "outputs": [],
   "source": [
    "def rem_dupli(s):\n",
    "    s = sorted(list(set(s)))\n",
    "    a = ''.join(s)\n",
    "    return a"
   ]
  },
  {
   "cell_type": "markdown",
   "metadata": {},
   "source": [
    "### 51. Write a program to check if the array is sorted."
   ]
  },
  {
   "cell_type": "code",
   "execution_count": 45,
   "metadata": {},
   "outputs": [],
   "source": [
    "# 1\n",
    "def ch_sort(arr):\n",
    "    temp = arr\n",
    "    return arr == sorted(arr)\n",
    "\n",
    "# 2\n",
    "\n",
    "def ch_sort2(arr):\n",
    "    n = len(arr)\n",
    "    \n",
    "    if n==0 or n==1:\n",
    "        return True\n",
    "    \n",
    "    return arr[0] <= arr[1] and ch_sort2(arr[1:])\n"
   ]
  },
  {
   "cell_type": "code",
   "execution_count": 47,
   "metadata": {},
   "outputs": [
    {
     "data": {
      "text/plain": [
       "True"
      ]
     },
     "execution_count": 47,
     "metadata": {},
     "output_type": "execute_result"
    }
   ],
   "source": [
    "arr = [1,2,3,3,5,6]\n",
    "ch_sort2(arr)"
   ]
  },
  {
   "cell_type": "markdown",
   "metadata": {},
   "source": [
    "### 52. Selection Sort"
   ]
  },
  {
   "cell_type": "code",
   "execution_count": 26,
   "metadata": {},
   "outputs": [],
   "source": [
    "# 52. Selection Sort \n",
    "    \n",
    "def selection_sort(arr):\n",
    "    # for every slot in an array\n",
    "    for fillSlot in range(len(arr)-1,0,-1):\n",
    "        positionOfMax = 0\n",
    "        \n",
    "            # Set maximum's location\n",
    "        for location in range(1,fillSlot+1):\n",
    "            if arr[location] > arr[positionOfMax]:\n",
    "                location = positionOfMax\n",
    "        arr[location], arr[positionOfMax] =  arr[positionOfMax], arr[location] \n",
    "#         temp = arr[fillSlot]  \n",
    "#         arr[fillSlot] = arr[positionOfMax]\n",
    "#         arr[positionOfMax] = temp"
   ]
  },
  {
   "cell_type": "code",
   "execution_count": 27,
   "metadata": {},
   "outputs": [
    {
     "data": {
      "text/plain": [
       "[2, 5, 3, 7, 6, 8, 12, 40, 21]"
      ]
     },
     "execution_count": 27,
     "metadata": {},
     "output_type": "execute_result"
    }
   ],
   "source": [
    "arr = [3,5,2,7,6,8,12,40,21]\n",
    "selection_sort(arr)\n",
    "arr"
   ]
  },
  {
   "cell_type": "markdown",
   "metadata": {},
   "source": [
    "### 53. Insertion Sort"
   ]
  },
  {
   "cell_type": "code",
   "execution_count": 31,
   "metadata": {},
   "outputs": [],
   "source": [
    "# Insertion Sort\n",
    "\n",
    "def insertion_sort(arr):\n",
    "    \n",
    "   # For every index in an array\n",
    "   for i in range(1,len(arr)):\n",
    "        \n",
    "        # Set value and postion\n",
    "        currentValue = arr[i]\n",
    "        position = i\n",
    "        \n",
    "        # Sorted Sublist\n",
    "        while position>0 and arr[position-1]>currentValue:\n",
    "            arr[position] = arr[position-1]\n",
    "            position = position -1\n",
    "        \n",
    "        arr[position] = currentValue"
   ]
  },
  {
   "cell_type": "code",
   "execution_count": 32,
   "metadata": {},
   "outputs": [
    {
     "data": {
      "text/plain": [
       "[1, 2, 3, 4, 5, 6, 8, 12, 25, 41]"
      ]
     },
     "execution_count": 32,
     "metadata": {},
     "output_type": "execute_result"
    }
   ],
   "source": [
    "arr =[3,5,4,6,8,1,2,12,41,25]\n",
    "insertion_sort(arr)\n",
    "arr"
   ]
  },
  {
   "cell_type": "markdown",
   "metadata": {},
   "source": [
    "### 54. Bubble Sort"
   ]
  },
  {
   "cell_type": "code",
   "execution_count": 2,
   "metadata": {},
   "outputs": [],
   "source": [
    "def bubble_sort(arr):\n",
    "    # For every element in an array(arranged backward)\n",
    "    for n in range(len(arr)-1,0,-1):\n",
    "        \n",
    "        for k in range(n):\n",
    "        # If we come to a point to switch\n",
    "            if arr[k]>arr[k+1]:\n",
    "                arr[k],arr[k+1] = arr[k+1],arr[k]"
   ]
  },
  {
   "cell_type": "code",
   "execution_count": 3,
   "metadata": {},
   "outputs": [],
   "source": [
    "arr = [3,2,13,4,6,5,7,8,1,20]\n",
    "bubble_sort(arr)"
   ]
  },
  {
   "cell_type": "code",
   "execution_count": 4,
   "metadata": {},
   "outputs": [
    {
     "data": {
      "text/plain": [
       "[1, 2, 3, 4, 5, 6, 7, 8, 13, 20]"
      ]
     },
     "execution_count": 4,
     "metadata": {},
     "output_type": "execute_result"
    }
   ],
   "source": [
    "arr"
   ]
  },
  {
   "cell_type": "markdown",
   "metadata": {},
   "source": [
    "### 55. Quick Sort"
   ]
  },
  {
   "cell_type": "code",
   "execution_count": 7,
   "metadata": {},
   "outputs": [],
   "source": [
    "def quick_sort(arr):\n",
    "    \n",
    "    quick_sort_helper(arr,0,len(arr)-1)\n",
    "\n",
    "def quick_sort_helper(arr,first,last):\n",
    "    if first < last:\n",
    "        \n",
    "        splitpoint = partition(arr,first,last)\n",
    "        \n",
    "        quick_sort_helper(arr,first,splitpoint-1)\n",
    "        quick_sort_helper(arr,splitpoint+1,last)\n",
    "\n",
    "def partition(arr,first,last):\n",
    "    pivotValue = arr[first]\n",
    "    \n",
    "    leftmark = first+1\n",
    "    rightmark = last\n",
    "\n",
    "    done = False\n",
    "    \n",
    "    while not done:\n",
    "        \n",
    "        while leftmark <= rightmark and arr[leftmark] <= pivotValue:\n",
    "            leftmark = leftmark + 1\n",
    "            \n",
    "        while arr[rightmark] >= pivotValue and rightmark >= leftmark:\n",
    "            rightmark = rightmark - 1\n",
    "            \n",
    "        if rightmark < leftmark:\n",
    "            done = True\n",
    "        else:\n",
    "            temp = arr[leftmark]\n",
    "            arr[leftmark] = arr[rightmark]\n",
    "            arr[rightmark] = temp\n",
    "            \n",
    "    temp = arr[first]\n",
    "    arr[first] = arr[rightmark]\n",
    "    arr[rightmark] = temp\n",
    "    \n",
    "    return rightmark"
   ]
  },
  {
   "cell_type": "code",
   "execution_count": 8,
   "metadata": {},
   "outputs": [
    {
     "data": {
      "text/plain": [
       "[1, 2, 3, 4, 4, 5, 6, 7, 11, 12]"
      ]
     },
     "execution_count": 8,
     "metadata": {},
     "output_type": "execute_result"
    }
   ],
   "source": [
    "arr = [2,5,4,6,7,3,1,4,12,11]\n",
    "quick_sort(arr)\n",
    "arr"
   ]
  },
  {
   "cell_type": "markdown",
   "metadata": {},
   "source": [
    "### 56. Count the number of ones in the binary string."
   ]
  },
  {
   "cell_type": "code",
   "execution_count": 10,
   "metadata": {},
   "outputs": [
    {
     "data": {
      "text/plain": [
       "5"
      ]
     },
     "execution_count": 10,
     "metadata": {},
     "output_type": "execute_result"
    }
   ],
   "source": [
    "def count_bs(bs):\n",
    "    \n",
    "    count = 0\n",
    "    \n",
    "    for i in bs:\n",
    "        if i == '1':\n",
    "            count += 1\n",
    "    \n",
    "    return count\n",
    "\n",
    "bs = '10110101'\n",
    "\n",
    "count_bs(bs)"
   ]
  },
  {
   "cell_type": "markdown",
   "metadata": {},
   "source": [
    "### 57. How to Find 2’s Complement?"
   ]
  },
  {
   "cell_type": "code",
   "execution_count": 11,
   "metadata": {},
   "outputs": [
    {
     "name": "stdout",
     "output_type": "stream",
     "text": [
      "1's complement: 0011\n",
      "2's complement: 0100\n"
     ]
    }
   ],
   "source": [
    "\n",
    "def flip(c):\n",
    "    return '1' if (c == '0') else '0'\n",
    "\n",
    "def printOneAndTwosComp(bins):\n",
    "    \n",
    "    n = len(bins)\n",
    "    ones = ''\n",
    "    twos = ''\n",
    "    \n",
    "    for i in range(n):\n",
    "        ones += flip(bins[i])\n",
    "        \n",
    "    ones = list(ones.strip(\"\"))\n",
    "    twos = list(ones)\n",
    "    \n",
    "    for i in range(n-1,-1,-1):\n",
    "        \n",
    "        if(ones[i]=='1'):\n",
    "            twos[i] = '0'\n",
    "        else:\n",
    "            twos[i] = '1'\n",
    "            break\n",
    "            \n",
    "    i -= 1\n",
    "    \n",
    "    if (i == -1):\n",
    "        twos.insert(0,'1')\n",
    "        \n",
    "    \n",
    "    print(\"1's complement: \", *ones, sep = \"\")\n",
    "    print(\"2's complement: \", *twos, sep = \"\")    \n",
    "    \n",
    "    \n",
    "if __name__ == \"__main__\":\n",
    "    bins = '1100'\n",
    "    printOneAndTwosComp(bins.strip(\"\"))\n",
    "    \n",
    "        "
   ]
  },
  {
   "cell_type": "markdown",
   "metadata": {},
   "source": [
    "### 58. Write a program to convert the Decimal number to Binary."
   ]
  },
  {
   "cell_type": "code",
   "execution_count": 15,
   "metadata": {},
   "outputs": [
    {
     "name": "stdout",
     "output_type": "stream",
     "text": [
      "011000"
     ]
    }
   ],
   "source": [
    "def decimalToBinary(num):\n",
    "    if num >= 1:\n",
    "        decimalToBinary(num // 2)\n",
    "    print(num%2,end='')\n",
    "    \n",
    "if __name__ == '__main__':\n",
    "    dec_val = 24\n",
    "    \n",
    "    decimalToBinary(dec_val)"
   ]
  },
  {
   "cell_type": "markdown",
   "metadata": {},
   "source": [
    "### 59. Write a program to download the file from the network?"
   ]
  },
  {
   "cell_type": "code",
   "execution_count": 17,
   "metadata": {},
   "outputs": [
    {
     "data": {
      "text/plain": [
       "1150"
      ]
     },
     "execution_count": 17,
     "metadata": {},
     "output_type": "execute_result"
    }
   ],
   "source": [
    "import requests\n",
    "\n",
    "url = 'https://www.facebook.com/favicon.ico'\n",
    "r = requests.get(url, allow_redirects=True)\n",
    "\n",
    "open('facebook.ico', 'wb').write(r.content)"
   ]
  },
  {
   "cell_type": "markdown",
   "metadata": {},
   "source": [
    "### 60. How to convert nested dictionary into flatten dictionary in Python?"
   ]
  },
  {
   "cell_type": "code",
   "execution_count": 29,
   "metadata": {},
   "outputs": [
    {
     "name": "stdout",
     "output_type": "stream",
     "text": [
      "{'a': 1, 'b': 2, 'c': 3, 'd': 4}\n"
     ]
    }
   ],
   "source": [
    "def flat_dict(d):\n",
    "    out = {}\n",
    "    \n",
    "    for key,val in d.items():\n",
    "        if type(val) == dict:\n",
    "            out[key] = len(d.keys())\n",
    "            out.update(val)\n",
    "        else:\n",
    "            out[key] = val\n",
    "    \n",
    "    return out\n",
    "\n",
    "if __name__ == \"__main__\":\n",
    "    sample_dict = {'a' : 1, 'b' : {'c': 3, 'd': 4}}\n",
    "    out_dict = flat_dict(sample_dict)\n",
    "    print(out_dict)\n",
    "\n",
    "            "
   ]
  },
  {
   "cell_type": "code",
   "execution_count": null,
   "metadata": {},
   "outputs": [],
   "source": []
  }
 ],
 "metadata": {
  "kernelspec": {
   "display_name": "Python 3",
   "language": "python",
   "name": "python3"
  },
  "language_info": {
   "codemirror_mode": {
    "name": "ipython",
    "version": 3
   },
   "file_extension": ".py",
   "mimetype": "text/x-python",
   "name": "python",
   "nbconvert_exporter": "python",
   "pygments_lexer": "ipython3",
   "version": "3.8.5"
  }
 },
 "nbformat": 4,
 "nbformat_minor": 4
}
